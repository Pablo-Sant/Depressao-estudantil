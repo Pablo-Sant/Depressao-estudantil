{
 "cells": [
  {
   "cell_type": "code",
   "execution_count": null,
   "id": "b7559005",
   "metadata": {},
   "outputs": [],
   "source": [
    "from sklearn.naive_bayes import GaussianNB, BernoulliNB\n",
    "from sklearn.tree import DecisionTreeClassifier\n",
    "from sklearn.ensemble import RandomForestClassifier\n",
    "from sklearn.neighbors import KNeighborsClassifier\n",
    "from sklearn.linear_model import LogisticRegression\n",
    "from sklearn.metrics import accuracy_score, confusion_matrix, classification_report\n",
    "from sklearn.model_selection import cross_val_score\n",
    "from scipy import sparse\n",
    "import pandas as pd"
   ]
  },
  {
   "cell_type": "code",
   "execution_count": 7,
   "id": "80692051",
   "metadata": {},
   "outputs": [],
   "source": [
    "x_train = sparse.load_npz(r\"C:\\Projects_ciência_dados\\DEPRESSAO_ESTUDANTIL\\data\\processed\\x_train.npz\")"
   ]
  },
  {
   "cell_type": "code",
   "execution_count": 8,
   "id": "d5bed57a",
   "metadata": {},
   "outputs": [],
   "source": [
    "x_test = sparse.load_npz(r\"C:\\Projects_ciência_dados\\DEPRESSAO_ESTUDANTIL\\data\\processed\\x_test.npz\")"
   ]
  },
  {
   "cell_type": "code",
   "execution_count": 10,
   "id": "aee61fad",
   "metadata": {},
   "outputs": [],
   "source": [
    "y_train = pd.read_csv(r\"C:\\Projects_ciência_dados\\DEPRESSAO_ESTUDANTIL\\data\\processed\\y_train.csv\")"
   ]
  },
  {
   "cell_type": "code",
   "execution_count": 12,
   "id": "79f379e2",
   "metadata": {},
   "outputs": [],
   "source": [
    "y_test = pd.read_csv(r\"C:\\Projects_ciência_dados\\DEPRESSAO_ESTUDANTIL\\data\\processed\\y_test.csv\")"
   ]
  },
  {
   "cell_type": "code",
   "execution_count": 15,
   "id": "d8909af2",
   "metadata": {},
   "outputs": [],
   "source": [
    "x_train_array = x_train.toarray()\n",
    "x_test_array = x_test.toarray()"
   ]
  },
  {
   "cell_type": "markdown",
   "id": "3f157836",
   "metadata": {},
   "source": [
    "#### GaussianNB"
   ]
  },
  {
   "cell_type": "code",
   "execution_count": 17,
   "id": "dbc0ab81",
   "metadata": {},
   "outputs": [
    {
     "name": "stderr",
     "output_type": "stream",
     "text": [
      "c:\\Projects_ciência_dados\\DEPRESSAO_ESTUDANTIL\\.venv\\Lib\\site-packages\\sklearn\\utils\\validation.py:1406: DataConversionWarning: A column-vector y was passed when a 1d array was expected. Please change the shape of y to (n_samples, ), for example using ravel().\n",
      "  y = column_or_1d(y, warn=True)\n",
      "c:\\Projects_ciência_dados\\DEPRESSAO_ESTUDANTIL\\.venv\\Lib\\site-packages\\sklearn\\utils\\validation.py:1406: DataConversionWarning: A column-vector y was passed when a 1d array was expected. Please change the shape of y to (n_samples, ), for example using ravel().\n",
      "  y = column_or_1d(y, warn=True)\n",
      "c:\\Projects_ciência_dados\\DEPRESSAO_ESTUDANTIL\\.venv\\Lib\\site-packages\\sklearn\\utils\\validation.py:1406: DataConversionWarning: A column-vector y was passed when a 1d array was expected. Please change the shape of y to (n_samples, ), for example using ravel().\n",
      "  y = column_or_1d(y, warn=True)\n",
      "c:\\Projects_ciência_dados\\DEPRESSAO_ESTUDANTIL\\.venv\\Lib\\site-packages\\sklearn\\utils\\validation.py:1406: DataConversionWarning: A column-vector y was passed when a 1d array was expected. Please change the shape of y to (n_samples, ), for example using ravel().\n",
      "  y = column_or_1d(y, warn=True)\n",
      "c:\\Projects_ciência_dados\\DEPRESSAO_ESTUDANTIL\\.venv\\Lib\\site-packages\\sklearn\\utils\\validation.py:1406: DataConversionWarning: A column-vector y was passed when a 1d array was expected. Please change the shape of y to (n_samples, ), for example using ravel().\n",
      "  y = column_or_1d(y, warn=True)\n",
      "c:\\Projects_ciência_dados\\DEPRESSAO_ESTUDANTIL\\.venv\\Lib\\site-packages\\sklearn\\utils\\validation.py:1406: DataConversionWarning: A column-vector y was passed when a 1d array was expected. Please change the shape of y to (n_samples, ), for example using ravel().\n",
      "  y = column_or_1d(y, warn=True)\n"
     ]
    }
   ],
   "source": [
    "gaus = GaussianNB()\n",
    "gaus.fit(x_train_array, y_train)\n",
    "cross = cross_val_score(gaus,x_train_array,y_train,cv=5)\n",
    "predict_gaus = gaus.predict(x_test_array)"
   ]
  },
  {
   "cell_type": "code",
   "execution_count": 22,
   "id": "2ca0164d",
   "metadata": {},
   "outputs": [
    {
     "name": "stdout",
     "output_type": "stream",
     "text": [
      "Cross Gaussian: 0.4147192353643966\n"
     ]
    }
   ],
   "source": [
    "print(f\"Cross Gaussian: {cross.mean()}\")"
   ]
  },
  {
   "cell_type": "code",
   "execution_count": 24,
   "id": "58907d96",
   "metadata": {},
   "outputs": [
    {
     "name": "stdout",
     "output_type": "stream",
     "text": [
      "Acurácia do gaussiano: 0.41614105504587157\n"
     ]
    }
   ],
   "source": [
    "accuracy_gaus = accuracy_score(predict_gaus,y_test)\n",
    "print(f\"Acurácia do gaussiano: {accuracy_gaus}\")"
   ]
  },
  {
   "cell_type": "markdown",
   "id": "434700b2",
   "metadata": {},
   "source": [
    "#### BernoulliNB"
   ]
  },
  {
   "cell_type": "code",
   "execution_count": 25,
   "id": "e00b3564",
   "metadata": {},
   "outputs": [
    {
     "name": "stderr",
     "output_type": "stream",
     "text": [
      "c:\\Projects_ciência_dados\\DEPRESSAO_ESTUDANTIL\\.venv\\Lib\\site-packages\\sklearn\\utils\\validation.py:1406: DataConversionWarning: A column-vector y was passed when a 1d array was expected. Please change the shape of y to (n_samples, ), for example using ravel().\n",
      "  y = column_or_1d(y, warn=True)\n",
      "c:\\Projects_ciência_dados\\DEPRESSAO_ESTUDANTIL\\.venv\\Lib\\site-packages\\sklearn\\utils\\validation.py:1406: DataConversionWarning: A column-vector y was passed when a 1d array was expected. Please change the shape of y to (n_samples, ), for example using ravel().\n",
      "  y = column_or_1d(y, warn=True)\n",
      "c:\\Projects_ciência_dados\\DEPRESSAO_ESTUDANTIL\\.venv\\Lib\\site-packages\\sklearn\\utils\\validation.py:1406: DataConversionWarning: A column-vector y was passed when a 1d array was expected. Please change the shape of y to (n_samples, ), for example using ravel().\n",
      "  y = column_or_1d(y, warn=True)\n",
      "c:\\Projects_ciência_dados\\DEPRESSAO_ESTUDANTIL\\.venv\\Lib\\site-packages\\sklearn\\utils\\validation.py:1406: DataConversionWarning: A column-vector y was passed when a 1d array was expected. Please change the shape of y to (n_samples, ), for example using ravel().\n",
      "  y = column_or_1d(y, warn=True)\n",
      "c:\\Projects_ciência_dados\\DEPRESSAO_ESTUDANTIL\\.venv\\Lib\\site-packages\\sklearn\\utils\\validation.py:1406: DataConversionWarning: A column-vector y was passed when a 1d array was expected. Please change the shape of y to (n_samples, ), for example using ravel().\n",
      "  y = column_or_1d(y, warn=True)\n",
      "c:\\Projects_ciência_dados\\DEPRESSAO_ESTUDANTIL\\.venv\\Lib\\site-packages\\sklearn\\utils\\validation.py:1406: DataConversionWarning: A column-vector y was passed when a 1d array was expected. Please change the shape of y to (n_samples, ), for example using ravel().\n",
      "  y = column_or_1d(y, warn=True)\n"
     ]
    }
   ],
   "source": [
    "bernoulli = BernoulliNB()\n",
    "bernoulli.fit(x_train,y_train)\n",
    "cross_benoulli = cross_val_score(bernoulli,x_train,y_train,cv=5)\n",
    "predict_bernoulli = bernoulli.predict(x_test)"
   ]
  },
  {
   "cell_type": "code",
   "execution_count": 27,
   "id": "765ee36e",
   "metadata": {},
   "outputs": [
    {
     "name": "stdout",
     "output_type": "stream",
     "text": [
      "Cross bernoulli: 0.7895340501792114\n"
     ]
    }
   ],
   "source": [
    "print(f\"Cross bernoulli: {cross_benoulli.mean()}\")"
   ]
  },
  {
   "cell_type": "code",
   "execution_count": 28,
   "id": "3a8d0e8a",
   "metadata": {},
   "outputs": [
    {
     "name": "stdout",
     "output_type": "stream",
     "text": [
      "Acurácia bernoulli:  0.7967316513761468\n"
     ]
    }
   ],
   "source": [
    "print(\"Acurácia bernoulli: \", accuracy_score(y_test,predict_bernoulli))"
   ]
  },
  {
   "cell_type": "markdown",
   "id": "b40e8b85",
   "metadata": {},
   "source": [
    "#### KNN"
   ]
  },
  {
   "cell_type": "code",
   "execution_count": 31,
   "id": "27fb1836",
   "metadata": {},
   "outputs": [
    {
     "name": "stderr",
     "output_type": "stream",
     "text": [
      "c:\\Projects_ciência_dados\\DEPRESSAO_ESTUDANTIL\\.venv\\Lib\\site-packages\\sklearn\\neighbors\\_classification.py:239: DataConversionWarning: A column-vector y was passed when a 1d array was expected. Please change the shape of y to (n_samples,), for example using ravel().\n",
      "  return self._fit(X, y)\n",
      "c:\\Projects_ciência_dados\\DEPRESSAO_ESTUDANTIL\\.venv\\Lib\\site-packages\\sklearn\\neighbors\\_classification.py:239: DataConversionWarning: A column-vector y was passed when a 1d array was expected. Please change the shape of y to (n_samples,), for example using ravel().\n",
      "  return self._fit(X, y)\n",
      "c:\\Projects_ciência_dados\\DEPRESSAO_ESTUDANTIL\\.venv\\Lib\\site-packages\\sklearn\\neighbors\\_classification.py:239: DataConversionWarning: A column-vector y was passed when a 1d array was expected. Please change the shape of y to (n_samples,), for example using ravel().\n",
      "  return self._fit(X, y)\n",
      "c:\\Projects_ciência_dados\\DEPRESSAO_ESTUDANTIL\\.venv\\Lib\\site-packages\\sklearn\\neighbors\\_classification.py:239: DataConversionWarning: A column-vector y was passed when a 1d array was expected. Please change the shape of y to (n_samples,), for example using ravel().\n",
      "  return self._fit(X, y)\n",
      "c:\\Projects_ciência_dados\\DEPRESSAO_ESTUDANTIL\\.venv\\Lib\\site-packages\\sklearn\\neighbors\\_classification.py:239: DataConversionWarning: A column-vector y was passed when a 1d array was expected. Please change the shape of y to (n_samples,), for example using ravel().\n",
      "  return self._fit(X, y)\n",
      "c:\\Projects_ciência_dados\\DEPRESSAO_ESTUDANTIL\\.venv\\Lib\\site-packages\\sklearn\\neighbors\\_classification.py:239: DataConversionWarning: A column-vector y was passed when a 1d array was expected. Please change the shape of y to (n_samples,), for example using ravel().\n",
      "  return self._fit(X, y)\n"
     ]
    }
   ],
   "source": [
    "KNN = KNeighborsClassifier(n_neighbors=7)\n",
    "KNN.fit(x_train,y_train)\n",
    "cross_KNN = cross_val_score(KNN,x_train,y_train,cv=5)\n",
    "predict_KNN = KNN.predict(x_test)"
   ]
  },
  {
   "cell_type": "code",
   "execution_count": 32,
   "id": "f9b2fe35",
   "metadata": {},
   "outputs": [
    {
     "name": "stdout",
     "output_type": "stream",
     "text": [
      "Cross KNN: 0.7180406212664276\n"
     ]
    }
   ],
   "source": [
    "print(f\"Cross KNN: {cross_KNN.mean()}\")"
   ]
  },
  {
   "cell_type": "code",
   "execution_count": null,
   "id": "45bd2169",
   "metadata": {},
   "outputs": [
    {
     "name": "stdout",
     "output_type": "stream",
     "text": [
      "Acurácia KNN: 0.730505\n"
     ]
    }
   ],
   "source": [
    "accurary_KNN = accuracy_score(y_test, predict_KNN)\n",
    "print(f\"Acurácia KNN: {accurary_KNN:4f}\")"
   ]
  },
  {
   "cell_type": "markdown",
   "id": "b81db7d1",
   "metadata": {},
   "source": [
    "#### Regressão logística"
   ]
  },
  {
   "cell_type": "code",
   "execution_count": 61,
   "id": "5403196e",
   "metadata": {},
   "outputs": [
    {
     "name": "stderr",
     "output_type": "stream",
     "text": [
      "c:\\Projects_ciência_dados\\DEPRESSAO_ESTUDANTIL\\.venv\\Lib\\site-packages\\sklearn\\utils\\validation.py:1406: DataConversionWarning: A column-vector y was passed when a 1d array was expected. Please change the shape of y to (n_samples, ), for example using ravel().\n",
      "  y = column_or_1d(y, warn=True)\n",
      "c:\\Projects_ciência_dados\\DEPRESSAO_ESTUDANTIL\\.venv\\Lib\\site-packages\\sklearn\\linear_model\\_logistic.py:473: ConvergenceWarning: lbfgs failed to converge after 100 iteration(s) (status=1):\n",
      "STOP: TOTAL NO. OF ITERATIONS REACHED LIMIT\n",
      "\n",
      "Increase the number of iterations to improve the convergence (max_iter=100).\n",
      "You might also want to scale the data as shown in:\n",
      "    https://scikit-learn.org/stable/modules/preprocessing.html\n",
      "Please also refer to the documentation for alternative solver options:\n",
      "    https://scikit-learn.org/stable/modules/linear_model.html#logistic-regression\n",
      "  n_iter_i = _check_optimize_result(\n",
      "c:\\Projects_ciência_dados\\DEPRESSAO_ESTUDANTIL\\.venv\\Lib\\site-packages\\sklearn\\utils\\validation.py:1406: DataConversionWarning: A column-vector y was passed when a 1d array was expected. Please change the shape of y to (n_samples, ), for example using ravel().\n",
      "  y = column_or_1d(y, warn=True)\n",
      "c:\\Projects_ciência_dados\\DEPRESSAO_ESTUDANTIL\\.venv\\Lib\\site-packages\\sklearn\\utils\\validation.py:1406: DataConversionWarning: A column-vector y was passed when a 1d array was expected. Please change the shape of y to (n_samples, ), for example using ravel().\n",
      "  y = column_or_1d(y, warn=True)\n",
      "c:\\Projects_ciência_dados\\DEPRESSAO_ESTUDANTIL\\.venv\\Lib\\site-packages\\sklearn\\utils\\validation.py:1406: DataConversionWarning: A column-vector y was passed when a 1d array was expected. Please change the shape of y to (n_samples, ), for example using ravel().\n",
      "  y = column_or_1d(y, warn=True)\n",
      "c:\\Projects_ciência_dados\\DEPRESSAO_ESTUDANTIL\\.venv\\Lib\\site-packages\\sklearn\\utils\\validation.py:1406: DataConversionWarning: A column-vector y was passed when a 1d array was expected. Please change the shape of y to (n_samples, ), for example using ravel().\n",
      "  y = column_or_1d(y, warn=True)\n",
      "c:\\Projects_ciência_dados\\DEPRESSAO_ESTUDANTIL\\.venv\\Lib\\site-packages\\sklearn\\utils\\validation.py:1406: DataConversionWarning: A column-vector y was passed when a 1d array was expected. Please change the shape of y to (n_samples, ), for example using ravel().\n",
      "  y = column_or_1d(y, warn=True)\n"
     ]
    }
   ],
   "source": [
    "logistic = LogisticRegression()\n",
    "logistic.fit(x_train,y_train)\n",
    "cross_logistic = cross_val_score(logistic,x_train,y_train,cv=5)\n",
    "predict_logistic = logistic.predict(x_test)"
   ]
  },
  {
   "cell_type": "code",
   "execution_count": 62,
   "id": "c69edd3a",
   "metadata": {},
   "outputs": [
    {
     "name": "stdout",
     "output_type": "stream",
     "text": [
      "cross regressão logística: 0.844205495818399\n"
     ]
    }
   ],
   "source": [
    "print(f\"cross regressão logística: {cross_logistic.mean()}\")"
   ]
  },
  {
   "cell_type": "code",
   "execution_count": 63,
   "id": "2d99051b",
   "metadata": {},
   "outputs": [
    {
     "name": "stdout",
     "output_type": "stream",
     "text": [
      "Acurácia regressão logística: 0.8540711009174312\n"
     ]
    }
   ],
   "source": [
    "accuracy_logistic = accuracy_score(y_test,predict_logistic)\n",
    "print(f\"Acurácia regressão logística: {accuracy_logistic}\")"
   ]
  },
  {
   "cell_type": "code",
   "execution_count": 45,
   "id": "2dd206ae",
   "metadata": {},
   "outputs": [
    {
     "name": "stdout",
     "output_type": "stream",
     "text": [
      "              precision    recall  f1-score   support\n",
      "\n",
      "           0       0.84      0.79      0.82      2891\n",
      "           1       0.86      0.90      0.88      4085\n",
      "\n",
      "    accuracy                           0.85      6976\n",
      "   macro avg       0.85      0.85      0.85      6976\n",
      "weighted avg       0.85      0.85      0.85      6976\n",
      "\n"
     ]
    }
   ],
   "source": [
    "report_logistic = classification_report(y_test,predict_logistic)\n",
    "print(report_logistic)"
   ]
  },
  {
   "cell_type": "markdown",
   "id": "e12790c2",
   "metadata": {},
   "source": [
    "#### Árvores de decisão"
   ]
  },
  {
   "cell_type": "code",
   "execution_count": 46,
   "id": "7d433613",
   "metadata": {},
   "outputs": [],
   "source": [
    "tree = DecisionTreeClassifier()\n",
    "tree.fit(x_train,y_train)\n",
    "cross_tree = cross_val_score(tree,x_train,y_train,cv=5)\n",
    "predict_tree = tree.predict(x_test)"
   ]
  },
  {
   "cell_type": "code",
   "execution_count": 47,
   "id": "4dcc786a",
   "metadata": {},
   "outputs": [
    {
     "name": "stdout",
     "output_type": "stream",
     "text": [
      "Cross árvore: 0.7706093189964157\n"
     ]
    }
   ],
   "source": [
    "print(f\"Cross árvore: {cross_tree.mean()}\")"
   ]
  },
  {
   "cell_type": "code",
   "execution_count": 49,
   "id": "979cee7a",
   "metadata": {},
   "outputs": [
    {
     "name": "stdout",
     "output_type": "stream",
     "text": [
      "Acurácia árvore: 0.7762327981651376\n"
     ]
    }
   ],
   "source": [
    "accuracy_tree = accuracy_score(y_test, predict_tree)\n",
    "print(f\"Acurácia árvore: {accuracy_tree}\")"
   ]
  },
  {
   "cell_type": "code",
   "execution_count": 51,
   "id": "815b0724",
   "metadata": {},
   "outputs": [
    {
     "name": "stdout",
     "output_type": "stream",
     "text": [
      "              precision    recall  f1-score   support\n",
      "\n",
      "           0       0.73      0.73      0.73      2891\n",
      "           1       0.81      0.81      0.81      4085\n",
      "\n",
      "    accuracy                           0.78      6976\n",
      "   macro avg       0.77      0.77      0.77      6976\n",
      "weighted avg       0.78      0.78      0.78      6976\n",
      "\n"
     ]
    }
   ],
   "source": [
    "report_tree = classification_report(y_test, predict_tree)\n",
    "print(report_tree)"
   ]
  },
  {
   "cell_type": "markdown",
   "id": "650f0ac4",
   "metadata": {},
   "source": [
    "#### Random Forest"
   ]
  },
  {
   "cell_type": "code",
   "execution_count": 66,
   "id": "e5406d8c",
   "metadata": {},
   "outputs": [
    {
     "name": "stderr",
     "output_type": "stream",
     "text": [
      "c:\\Projects_ciência_dados\\DEPRESSAO_ESTUDANTIL\\.venv\\Lib\\site-packages\\sklearn\\base.py:1365: DataConversionWarning: A column-vector y was passed when a 1d array was expected. Please change the shape of y to (n_samples,), for example using ravel().\n",
      "  return fit_method(estimator, *args, **kwargs)\n",
      "c:\\Projects_ciência_dados\\DEPRESSAO_ESTUDANTIL\\.venv\\Lib\\site-packages\\sklearn\\base.py:1365: DataConversionWarning: A column-vector y was passed when a 1d array was expected. Please change the shape of y to (n_samples,), for example using ravel().\n",
      "  return fit_method(estimator, *args, **kwargs)\n",
      "c:\\Projects_ciência_dados\\DEPRESSAO_ESTUDANTIL\\.venv\\Lib\\site-packages\\sklearn\\base.py:1365: DataConversionWarning: A column-vector y was passed when a 1d array was expected. Please change the shape of y to (n_samples,), for example using ravel().\n",
      "  return fit_method(estimator, *args, **kwargs)\n",
      "c:\\Projects_ciência_dados\\DEPRESSAO_ESTUDANTIL\\.venv\\Lib\\site-packages\\sklearn\\base.py:1365: DataConversionWarning: A column-vector y was passed when a 1d array was expected. Please change the shape of y to (n_samples,), for example using ravel().\n",
      "  return fit_method(estimator, *args, **kwargs)\n",
      "c:\\Projects_ciência_dados\\DEPRESSAO_ESTUDANTIL\\.venv\\Lib\\site-packages\\sklearn\\base.py:1365: DataConversionWarning: A column-vector y was passed when a 1d array was expected. Please change the shape of y to (n_samples,), for example using ravel().\n",
      "  return fit_method(estimator, *args, **kwargs)\n",
      "c:\\Projects_ciência_dados\\DEPRESSAO_ESTUDANTIL\\.venv\\Lib\\site-packages\\sklearn\\base.py:1365: DataConversionWarning: A column-vector y was passed when a 1d array was expected. Please change the shape of y to (n_samples,), for example using ravel().\n",
      "  return fit_method(estimator, *args, **kwargs)\n"
     ]
    }
   ],
   "source": [
    "random = RandomForestClassifier(n_estimators=200, max_depth=100,max_features='log2')\n",
    "random.fit(x_train,y_train)\n",
    "cross_random = cross_val_score(random,x_train,y_train,cv=5)\n",
    "predict_random = random.predict(x_test)"
   ]
  },
  {
   "cell_type": "code",
   "execution_count": 67,
   "id": "ce606012",
   "metadata": {},
   "outputs": [
    {
     "name": "stdout",
     "output_type": "stream",
     "text": [
      "cross random: 0.8371804062126642\n"
     ]
    }
   ],
   "source": [
    "print(f\"cross random: {cross_random.mean()}\")"
   ]
  },
  {
   "cell_type": "code",
   "execution_count": 68,
   "id": "485b1f01",
   "metadata": {},
   "outputs": [
    {
     "name": "stdout",
     "output_type": "stream",
     "text": [
      "Acurácia random: 0.8436066513761468\n"
     ]
    }
   ],
   "source": [
    "accuracy_random = accuracy_score(y_test,predict_random)\n",
    "print(f\"Acurácia random: {accuracy_random}\")"
   ]
  },
  {
   "cell_type": "code",
   "execution_count": 69,
   "id": "a1f25057",
   "metadata": {},
   "outputs": [
    {
     "name": "stdout",
     "output_type": "stream",
     "text": [
      "              precision    recall  f1-score   support\n",
      "\n",
      "           0       0.84      0.77      0.80      2891\n",
      "           1       0.85      0.89      0.87      4085\n",
      "\n",
      "    accuracy                           0.84      6976\n",
      "   macro avg       0.84      0.83      0.84      6976\n",
      "weighted avg       0.84      0.84      0.84      6976\n",
      "\n"
     ]
    }
   ],
   "source": [
    "report_random = classification_report(y_test,predict_random)\n",
    "print(report_random)"
   ]
  },
  {
   "cell_type": "markdown",
   "id": "2dbe63b7",
   "metadata": {},
   "source": [
    "##### Tentar melhorar os resultados"
   ]
  },
  {
   "cell_type": "markdown",
   "id": "5801ee4d",
   "metadata": {},
   "source": [
    "##### Melhor resultado até agora: LogisticRegression"
   ]
  }
 ],
 "metadata": {
  "kernelspec": {
   "display_name": ".venv",
   "language": "python",
   "name": "python3"
  },
  "language_info": {
   "codemirror_mode": {
    "name": "ipython",
    "version": 3
   },
   "file_extension": ".py",
   "mimetype": "text/x-python",
   "name": "python",
   "nbconvert_exporter": "python",
   "pygments_lexer": "ipython3",
   "version": "3.13.3"
  }
 },
 "nbformat": 4,
 "nbformat_minor": 5
}
